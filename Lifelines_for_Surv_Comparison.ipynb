{
  "nbformat": 4,
  "nbformat_minor": 0,
  "metadata": {
    "colab": {
      "name": "Lifelines_for_Surv_Comparison.ipynb",
      "provenance": []
    },
    "kernelspec": {
      "name": "python3",
      "display_name": "Python 3"
    }
  },
  "cells": [
    {
      "cell_type": "code",
      "metadata": {
        "id": "10OBNKtKctwN",
        "colab_type": "code",
        "outputId": "8a94ea86-6617-46b5-c43e-926988cc3c3d",
        "colab": {
          "base_uri": "https://localhost:8080/",
          "height": 364
        }
      },
      "source": [
        "pip install lifelines"
      ],
      "execution_count": 1,
      "outputs": [
        {
          "output_type": "stream",
          "text": [
            "Collecting lifelines\n",
            "\u001b[?25l  Downloading https://files.pythonhosted.org/packages/9d/ab/e94ae050479a4ff3de6535431762327cd7a94f8e008a1605410ba3879a30/lifelines-0.22.10-py2.py3-none-any.whl (379kB)\n",
            "\r\u001b[K     |▉                               | 10kB 16.5MB/s eta 0:00:01\r\u001b[K     |█▊                              | 20kB 1.7MB/s eta 0:00:01\r\u001b[K     |██▋                             | 30kB 2.5MB/s eta 0:00:01\r\u001b[K     |███▌                            | 40kB 1.7MB/s eta 0:00:01\r\u001b[K     |████▎                           | 51kB 2.0MB/s eta 0:00:01\r\u001b[K     |█████▏                          | 61kB 2.4MB/s eta 0:00:01\r\u001b[K     |██████                          | 71kB 2.8MB/s eta 0:00:01\r\u001b[K     |███████                         | 81kB 3.2MB/s eta 0:00:01\r\u001b[K     |███████▊                        | 92kB 3.6MB/s eta 0:00:01\r\u001b[K     |████████▋                       | 102kB 2.7MB/s eta 0:00:01\r\u001b[K     |█████████▌                      | 112kB 2.7MB/s eta 0:00:01\r\u001b[K     |██████████▍                     | 122kB 2.7MB/s eta 0:00:01\r\u001b[K     |███████████▏                    | 133kB 2.7MB/s eta 0:00:01\r\u001b[K     |████████████                    | 143kB 2.7MB/s eta 0:00:01\r\u001b[K     |█████████████                   | 153kB 2.7MB/s eta 0:00:01\r\u001b[K     |█████████████▉                  | 163kB 2.7MB/s eta 0:00:01\r\u001b[K     |██████████████▊                 | 174kB 2.7MB/s eta 0:00:01\r\u001b[K     |███████████████▌                | 184kB 2.7MB/s eta 0:00:01\r\u001b[K     |████████████████▍               | 194kB 2.7MB/s eta 0:00:01\r\u001b[K     |█████████████████▎              | 204kB 2.7MB/s eta 0:00:01\r\u001b[K     |██████████████████▏             | 215kB 2.7MB/s eta 0:00:01\r\u001b[K     |███████████████████             | 225kB 2.7MB/s eta 0:00:01\r\u001b[K     |███████████████████▉            | 235kB 2.7MB/s eta 0:00:01\r\u001b[K     |████████████████████▊           | 245kB 2.7MB/s eta 0:00:01\r\u001b[K     |█████████████████████▋          | 256kB 2.7MB/s eta 0:00:01\r\u001b[K     |██████████████████████▍         | 266kB 2.7MB/s eta 0:00:01\r\u001b[K     |███████████████████████▎        | 276kB 2.7MB/s eta 0:00:01\r\u001b[K     |████████████████████████▏       | 286kB 2.7MB/s eta 0:00:01\r\u001b[K     |█████████████████████████       | 296kB 2.7MB/s eta 0:00:01\r\u001b[K     |██████████████████████████      | 307kB 2.7MB/s eta 0:00:01\r\u001b[K     |██████████████████████████▊     | 317kB 2.7MB/s eta 0:00:01\r\u001b[K     |███████████████████████████▋    | 327kB 2.7MB/s eta 0:00:01\r\u001b[K     |████████████████████████████▌   | 337kB 2.7MB/s eta 0:00:01\r\u001b[K     |█████████████████████████████▍  | 348kB 2.7MB/s eta 0:00:01\r\u001b[K     |██████████████████████████████▏ | 358kB 2.7MB/s eta 0:00:01\r\u001b[K     |███████████████████████████████ | 368kB 2.7MB/s eta 0:00:01\r\u001b[K     |████████████████████████████████| 378kB 2.7MB/s eta 0:00:01\r\u001b[K     |████████████████████████████████| 389kB 2.7MB/s \n",
            "\u001b[?25hRequirement already satisfied: autograd>=1.3 in /usr/local/lib/python3.6/dist-packages (from lifelines) (1.3)\n",
            "Collecting autograd-gamma>=0.3\n",
            "  Downloading https://files.pythonhosted.org/packages/3e/87/788c4bf90cc5c534cb3b7fdb5b719175e33e2658decce75e35e2ce69766f/autograd_gamma-0.4.1-py2.py3-none-any.whl\n",
            "Requirement already satisfied: scipy>=1.0 in /usr/local/lib/python3.6/dist-packages (from lifelines) (1.3.1)\n",
            "Requirement already satisfied: numpy>=1.14.0 in /usr/local/lib/python3.6/dist-packages (from lifelines) (1.17.3)\n",
            "Requirement already satisfied: matplotlib>=3.0 in /usr/local/lib/python3.6/dist-packages (from lifelines) (3.1.1)\n",
            "Requirement already satisfied: pandas>=0.23.0 in /usr/local/lib/python3.6/dist-packages (from lifelines) (0.25.3)\n",
            "Requirement already satisfied: future>=0.15.2 in /usr/local/lib/python3.6/dist-packages (from autograd>=1.3->lifelines) (0.16.0)\n",
            "Requirement already satisfied: cycler>=0.10 in /usr/local/lib/python3.6/dist-packages (from matplotlib>=3.0->lifelines) (0.10.0)\n",
            "Requirement already satisfied: python-dateutil>=2.1 in /usr/local/lib/python3.6/dist-packages (from matplotlib>=3.0->lifelines) (2.6.1)\n",
            "Requirement already satisfied: pyparsing!=2.0.4,!=2.1.2,!=2.1.6,>=2.0.1 in /usr/local/lib/python3.6/dist-packages (from matplotlib>=3.0->lifelines) (2.4.4)\n",
            "Requirement already satisfied: kiwisolver>=1.0.1 in /usr/local/lib/python3.6/dist-packages (from matplotlib>=3.0->lifelines) (1.1.0)\n",
            "Requirement already satisfied: pytz>=2017.2 in /usr/local/lib/python3.6/dist-packages (from pandas>=0.23.0->lifelines) (2018.9)\n",
            "Requirement already satisfied: six in /usr/local/lib/python3.6/dist-packages (from cycler>=0.10->matplotlib>=3.0->lifelines) (1.12.0)\n",
            "Requirement already satisfied: setuptools in /usr/local/lib/python3.6/dist-packages (from kiwisolver>=1.0.1->matplotlib>=3.0->lifelines) (41.4.0)\n",
            "Installing collected packages: autograd-gamma, lifelines\n",
            "Successfully installed autograd-gamma-0.4.1 lifelines-0.22.10\n"
          ],
          "name": "stdout"
        }
      ]
    },
    {
      "cell_type": "markdown",
      "metadata": {
        "id": "MBptnYyzEZUU",
        "colab_type": "text"
      },
      "source": [
        "## Reference- https://lifelines.readthedocs.io/en/latest/"
      ]
    },
    {
      "cell_type": "code",
      "metadata": {
        "id": "5UUEp_17h95B",
        "colab_type": "code",
        "outputId": "655d4988-4e40-4a19-ed14-8782a5a48c06",
        "colab": {
          "resources": {
            "http://localhost:8080/nbextensions/google.colab/files.js": {
              "data": "Ly8gQ29weXJpZ2h0IDIwMTcgR29vZ2xlIExMQwovLwovLyBMaWNlbnNlZCB1bmRlciB0aGUgQXBhY2hlIExpY2Vuc2UsIFZlcnNpb24gMi4wICh0aGUgIkxpY2Vuc2UiKTsKLy8geW91IG1heSBub3QgdXNlIHRoaXMgZmlsZSBleGNlcHQgaW4gY29tcGxpYW5jZSB3aXRoIHRoZSBMaWNlbnNlLgovLyBZb3UgbWF5IG9idGFpbiBhIGNvcHkgb2YgdGhlIExpY2Vuc2UgYXQKLy8KLy8gICAgICBodHRwOi8vd3d3LmFwYWNoZS5vcmcvbGljZW5zZXMvTElDRU5TRS0yLjAKLy8KLy8gVW5sZXNzIHJlcXVpcmVkIGJ5IGFwcGxpY2FibGUgbGF3IG9yIGFncmVlZCB0byBpbiB3cml0aW5nLCBzb2Z0d2FyZQovLyBkaXN0cmlidXRlZCB1bmRlciB0aGUgTGljZW5zZSBpcyBkaXN0cmlidXRlZCBvbiBhbiAiQVMgSVMiIEJBU0lTLAovLyBXSVRIT1VUIFdBUlJBTlRJRVMgT1IgQ09ORElUSU9OUyBPRiBBTlkgS0lORCwgZWl0aGVyIGV4cHJlc3Mgb3IgaW1wbGllZC4KLy8gU2VlIHRoZSBMaWNlbnNlIGZvciB0aGUgc3BlY2lmaWMgbGFuZ3VhZ2UgZ292ZXJuaW5nIHBlcm1pc3Npb25zIGFuZAovLyBsaW1pdGF0aW9ucyB1bmRlciB0aGUgTGljZW5zZS4KCi8qKgogKiBAZmlsZW92ZXJ2aWV3IEhlbHBlcnMgZm9yIGdvb2dsZS5jb2xhYiBQeXRob24gbW9kdWxlLgogKi8KKGZ1bmN0aW9uKHNjb3BlKSB7CmZ1bmN0aW9uIHNwYW4odGV4dCwgc3R5bGVBdHRyaWJ1dGVzID0ge30pIHsKICBjb25zdCBlbGVtZW50ID0gZG9jdW1lbnQuY3JlYXRlRWxlbWVudCgnc3BhbicpOwogIGVsZW1lbnQudGV4dENvbnRlbnQgPSB0ZXh0OwogIGZvciAoY29uc3Qga2V5IG9mIE9iamVjdC5rZXlzKHN0eWxlQXR0cmlidXRlcykpIHsKICAgIGVsZW1lbnQuc3R5bGVba2V5XSA9IHN0eWxlQXR0cmlidXRlc1trZXldOwogIH0KICByZXR1cm4gZWxlbWVudDsKfQoKLy8gTWF4IG51bWJlciBvZiBieXRlcyB3aGljaCB3aWxsIGJlIHVwbG9hZGVkIGF0IGEgdGltZS4KY29uc3QgTUFYX1BBWUxPQURfU0laRSA9IDEwMCAqIDEwMjQ7Ci8vIE1heCBhbW91bnQgb2YgdGltZSB0byBibG9jayB3YWl0aW5nIGZvciB0aGUgdXNlci4KY29uc3QgRklMRV9DSEFOR0VfVElNRU9VVF9NUyA9IDMwICogMTAwMDsKCmZ1bmN0aW9uIF91cGxvYWRGaWxlcyhpbnB1dElkLCBvdXRwdXRJZCkgewogIGNvbnN0IHN0ZXBzID0gdXBsb2FkRmlsZXNTdGVwKGlucHV0SWQsIG91dHB1dElkKTsKICBjb25zdCBvdXRwdXRFbGVtZW50ID0gZG9jdW1lbnQuZ2V0RWxlbWVudEJ5SWQob3V0cHV0SWQpOwogIC8vIENhY2hlIHN0ZXBzIG9uIHRoZSBvdXRwdXRFbGVtZW50IHRvIG1ha2UgaXQgYXZhaWxhYmxlIGZvciB0aGUgbmV4dCBjYWxsCiAgLy8gdG8gdXBsb2FkRmlsZXNDb250aW51ZSBmcm9tIFB5dGhvbi4KICBvdXRwdXRFbGVtZW50LnN0ZXBzID0gc3RlcHM7CgogIHJldHVybiBfdXBsb2FkRmlsZXNDb250aW51ZShvdXRwdXRJZCk7Cn0KCi8vIFRoaXMgaXMgcm91Z2hseSBhbiBhc3luYyBnZW5lcmF0b3IgKG5vdCBzdXBwb3J0ZWQgaW4gdGhlIGJyb3dzZXIgeWV0KSwKLy8gd2hlcmUgdGhlcmUgYXJlIG11bHRpcGxlIGFzeW5jaHJvbm91cyBzdGVwcyBhbmQgdGhlIFB5dGhvbiBzaWRlIGlzIGdvaW5nCi8vIHRvIHBvbGwgZm9yIGNvbXBsZXRpb24gb2YgZWFjaCBzdGVwLgovLyBUaGlzIHVzZXMgYSBQcm9taXNlIHRvIGJsb2NrIHRoZSBweXRob24gc2lkZSBvbiBjb21wbGV0aW9uIG9mIGVhY2ggc3RlcCwKLy8gdGhlbiBwYXNzZXMgdGhlIHJlc3VsdCBvZiB0aGUgcHJldmlvdXMgc3RlcCBhcyB0aGUgaW5wdXQgdG8gdGhlIG5leHQgc3RlcC4KZnVuY3Rpb24gX3VwbG9hZEZpbGVzQ29udGludWUob3V0cHV0SWQpIHsKICBjb25zdCBvdXRwdXRFbGVtZW50ID0gZG9jdW1lbnQuZ2V0RWxlbWVudEJ5SWQob3V0cHV0SWQpOwogIGNvbnN0IHN0ZXBzID0gb3V0cHV0RWxlbWVudC5zdGVwczsKCiAgY29uc3QgbmV4dCA9IHN0ZXBzLm5leHQob3V0cHV0RWxlbWVudC5sYXN0UHJvbWlzZVZhbHVlKTsKICByZXR1cm4gUHJvbWlzZS5yZXNvbHZlKG5leHQudmFsdWUucHJvbWlzZSkudGhlbigodmFsdWUpID0+IHsKICAgIC8vIENhY2hlIHRoZSBsYXN0IHByb21pc2UgdmFsdWUgdG8gbWFrZSBpdCBhdmFpbGFibGUgdG8gdGhlIG5leHQKICAgIC8vIHN0ZXAgb2YgdGhlIGdlbmVyYXRvci4KICAgIG91dHB1dEVsZW1lbnQubGFzdFByb21pc2VWYWx1ZSA9IHZhbHVlOwogICAgcmV0dXJuIG5leHQudmFsdWUucmVzcG9uc2U7CiAgfSk7Cn0KCi8qKgogKiBHZW5lcmF0b3IgZnVuY3Rpb24gd2hpY2ggaXMgY2FsbGVkIGJldHdlZW4gZWFjaCBhc3luYyBzdGVwIG9mIHRoZSB1cGxvYWQKICogcHJvY2Vzcy4KICogQHBhcmFtIHtzdHJpbmd9IGlucHV0SWQgRWxlbWVudCBJRCBvZiB0aGUgaW5wdXQgZmlsZSBwaWNrZXIgZWxlbWVudC4KICogQHBhcmFtIHtzdHJpbmd9IG91dHB1dElkIEVsZW1lbnQgSUQgb2YgdGhlIG91dHB1dCBkaXNwbGF5LgogKiBAcmV0dXJuIHshSXRlcmFibGU8IU9iamVjdD59IEl0ZXJhYmxlIG9mIG5leHQgc3RlcHMuCiAqLwpmdW5jdGlvbiogdXBsb2FkRmlsZXNTdGVwKGlucHV0SWQsIG91dHB1dElkKSB7CiAgY29uc3QgaW5wdXRFbGVtZW50ID0gZG9jdW1lbnQuZ2V0RWxlbWVudEJ5SWQoaW5wdXRJZCk7CiAgaW5wdXRFbGVtZW50LmRpc2FibGVkID0gZmFsc2U7CgogIGNvbnN0IG91dHB1dEVsZW1lbnQgPSBkb2N1bWVudC5nZXRFbGVtZW50QnlJZChvdXRwdXRJZCk7CiAgb3V0cHV0RWxlbWVudC5pbm5lckhUTUwgPSAnJzsKCiAgY29uc3QgcGlja2VkUHJvbWlzZSA9IG5ldyBQcm9taXNlKChyZXNvbHZlKSA9PiB7CiAgICBpbnB1dEVsZW1lbnQuYWRkRXZlbnRMaXN0ZW5lcignY2hhbmdlJywgKGUpID0+IHsKICAgICAgcmVzb2x2ZShlLnRhcmdldC5maWxlcyk7CiAgICB9KTsKICB9KTsKCiAgY29uc3QgY2FuY2VsID0gZG9jdW1lbnQuY3JlYXRlRWxlbWVudCgnYnV0dG9uJyk7CiAgaW5wdXRFbGVtZW50LnBhcmVudEVsZW1lbnQuYXBwZW5kQ2hpbGQoY2FuY2VsKTsKICBjYW5jZWwudGV4dENvbnRlbnQgPSAnQ2FuY2VsIHVwbG9hZCc7CiAgY29uc3QgY2FuY2VsUHJvbWlzZSA9IG5ldyBQcm9taXNlKChyZXNvbHZlKSA9PiB7CiAgICBjYW5jZWwub25jbGljayA9ICgpID0+IHsKICAgICAgcmVzb2x2ZShudWxsKTsKICAgIH07CiAgfSk7CgogIC8vIENhbmNlbCB1cGxvYWQgaWYgdXNlciBoYXNuJ3QgcGlja2VkIGFueXRoaW5nIGluIHRpbWVvdXQuCiAgY29uc3QgdGltZW91dFByb21pc2UgPSBuZXcgUHJvbWlzZSgocmVzb2x2ZSkgPT4gewogICAgc2V0VGltZW91dCgoKSA9PiB7CiAgICAgIHJlc29sdmUobnVsbCk7CiAgICB9LCBGSUxFX0NIQU5HRV9USU1FT1VUX01TKTsKICB9KTsKCiAgLy8gV2FpdCBmb3IgdGhlIHVzZXIgdG8gcGljayB0aGUgZmlsZXMuCiAgY29uc3QgZmlsZXMgPSB5aWVsZCB7CiAgICBwcm9taXNlOiBQcm9taXNlLnJhY2UoW3BpY2tlZFByb21pc2UsIHRpbWVvdXRQcm9taXNlLCBjYW5jZWxQcm9taXNlXSksCiAgICByZXNwb25zZTogewogICAgICBhY3Rpb246ICdzdGFydGluZycsCiAgICB9CiAgfTsKCiAgaWYgKCFmaWxlcykgewogICAgcmV0dXJuIHsKICAgICAgcmVzcG9uc2U6IHsKICAgICAgICBhY3Rpb246ICdjb21wbGV0ZScsCiAgICAgIH0KICAgIH07CiAgfQoKICBjYW5jZWwucmVtb3ZlKCk7CgogIC8vIERpc2FibGUgdGhlIGlucHV0IGVsZW1lbnQgc2luY2UgZnVydGhlciBwaWNrcyBhcmUgbm90IGFsbG93ZWQuCiAgaW5wdXRFbGVtZW50LmRpc2FibGVkID0gdHJ1ZTsKCiAgZm9yIChjb25zdCBmaWxlIG9mIGZpbGVzKSB7CiAgICBjb25zdCBsaSA9IGRvY3VtZW50LmNyZWF0ZUVsZW1lbnQoJ2xpJyk7CiAgICBsaS5hcHBlbmQoc3BhbihmaWxlLm5hbWUsIHtmb250V2VpZ2h0OiAnYm9sZCd9KSk7CiAgICBsaS5hcHBlbmQoc3BhbigKICAgICAgICBgKCR7ZmlsZS50eXBlIHx8ICduL2EnfSkgLSAke2ZpbGUuc2l6ZX0gYnl0ZXMsIGAgKwogICAgICAgIGBsYXN0IG1vZGlmaWVkOiAkewogICAgICAgICAgICBmaWxlLmxhc3RNb2RpZmllZERhdGUgPyBmaWxlLmxhc3RNb2RpZmllZERhdGUudG9Mb2NhbGVEYXRlU3RyaW5nKCkgOgogICAgICAgICAgICAgICAgICAgICAgICAgICAgICAgICAgICAnbi9hJ30gLSBgKSk7CiAgICBjb25zdCBwZXJjZW50ID0gc3BhbignMCUgZG9uZScpOwogICAgbGkuYXBwZW5kQ2hpbGQocGVyY2VudCk7CgogICAgb3V0cHV0RWxlbWVudC5hcHBlbmRDaGlsZChsaSk7CgogICAgY29uc3QgZmlsZURhdGFQcm9taXNlID0gbmV3IFByb21pc2UoKHJlc29sdmUpID0+IHsKICAgICAgY29uc3QgcmVhZGVyID0gbmV3IEZpbGVSZWFkZXIoKTsKICAgICAgcmVhZGVyLm9ubG9hZCA9IChlKSA9PiB7CiAgICAgICAgcmVzb2x2ZShlLnRhcmdldC5yZXN1bHQpOwogICAgICB9OwogICAgICByZWFkZXIucmVhZEFzQXJyYXlCdWZmZXIoZmlsZSk7CiAgICB9KTsKICAgIC8vIFdhaXQgZm9yIHRoZSBkYXRhIHRvIGJlIHJlYWR5LgogICAgbGV0IGZpbGVEYXRhID0geWllbGQgewogICAgICBwcm9taXNlOiBmaWxlRGF0YVByb21pc2UsCiAgICAgIHJlc3BvbnNlOiB7CiAgICAgICAgYWN0aW9uOiAnY29udGludWUnLAogICAgICB9CiAgICB9OwoKICAgIC8vIFVzZSBhIGNodW5rZWQgc2VuZGluZyB0byBhdm9pZCBtZXNzYWdlIHNpemUgbGltaXRzLiBTZWUgYi82MjExNTY2MC4KICAgIGxldCBwb3NpdGlvbiA9IDA7CiAgICB3aGlsZSAocG9zaXRpb24gPCBmaWxlRGF0YS5ieXRlTGVuZ3RoKSB7CiAgICAgIGNvbnN0IGxlbmd0aCA9IE1hdGgubWluKGZpbGVEYXRhLmJ5dGVMZW5ndGggLSBwb3NpdGlvbiwgTUFYX1BBWUxPQURfU0laRSk7CiAgICAgIGNvbnN0IGNodW5rID0gbmV3IFVpbnQ4QXJyYXkoZmlsZURhdGEsIHBvc2l0aW9uLCBsZW5ndGgpOwogICAgICBwb3NpdGlvbiArPSBsZW5ndGg7CgogICAgICBjb25zdCBiYXNlNjQgPSBidG9hKFN0cmluZy5mcm9tQ2hhckNvZGUuYXBwbHkobnVsbCwgY2h1bmspKTsKICAgICAgeWllbGQgewogICAgICAgIHJlc3BvbnNlOiB7CiAgICAgICAgICBhY3Rpb246ICdhcHBlbmQnLAogICAgICAgICAgZmlsZTogZmlsZS5uYW1lLAogICAgICAgICAgZGF0YTogYmFzZTY0LAogICAgICAgIH0sCiAgICAgIH07CiAgICAgIHBlcmNlbnQudGV4dENvbnRlbnQgPQogICAgICAgICAgYCR7TWF0aC5yb3VuZCgocG9zaXRpb24gLyBmaWxlRGF0YS5ieXRlTGVuZ3RoKSAqIDEwMCl9JSBkb25lYDsKICAgIH0KICB9CgogIC8vIEFsbCBkb25lLgogIHlpZWxkIHsKICAgIHJlc3BvbnNlOiB7CiAgICAgIGFjdGlvbjogJ2NvbXBsZXRlJywKICAgIH0KICB9Owp9CgpzY29wZS5nb29nbGUgPSBzY29wZS5nb29nbGUgfHwge307CnNjb3BlLmdvb2dsZS5jb2xhYiA9IHNjb3BlLmdvb2dsZS5jb2xhYiB8fCB7fTsKc2NvcGUuZ29vZ2xlLmNvbGFiLl9maWxlcyA9IHsKICBfdXBsb2FkRmlsZXMsCiAgX3VwbG9hZEZpbGVzQ29udGludWUsCn07Cn0pKHNlbGYpOwo=",
              "ok": true,
              "headers": [
                [
                  "content-type",
                  "application/javascript"
                ]
              ],
              "status": 200,
              "status_text": "OK"
            }
          },
          "base_uri": "https://localhost:8080/",
          "height": 71
        }
      },
      "source": [
        "from google.colab import files\n",
        "uploaded = files.upload()"
      ],
      "execution_count": 24,
      "outputs": [
        {
          "output_type": "display_data",
          "data": {
            "text/html": [
              "\n",
              "     <input type=\"file\" id=\"files-317ebc10-60ed-48de-a9e6-2e1be4727d31\" name=\"files[]\" multiple disabled />\n",
              "     <output id=\"result-317ebc10-60ed-48de-a9e6-2e1be4727d31\">\n",
              "      Upload widget is only available when the cell has been executed in the\n",
              "      current browser session. Please rerun this cell to enable.\n",
              "      </output>\n",
              "      <script src=\"/nbextensions/google.colab/files.js\"></script> "
            ],
            "text/plain": [
              "<IPython.core.display.HTML object>"
            ]
          },
          "metadata": {
            "tags": []
          }
        },
        {
          "output_type": "stream",
          "text": [
            "Saving lifelines_demo.csv to lifelines_demo.csv\n"
          ],
          "name": "stdout"
        }
      ]
    },
    {
      "cell_type": "code",
      "metadata": {
        "id": "qb5-aPHhiED7",
        "colab_type": "code",
        "colab": {}
      },
      "source": [
        "import pandas as pd\n",
        "import io\n",
        "df2 = pd.read_csv(io.BytesIO(uploaded['lifelines_demo.csv']))"
      ],
      "execution_count": 0,
      "outputs": []
    },
    {
      "cell_type": "code",
      "metadata": {
        "id": "Bk463bsUiUvP",
        "colab_type": "code",
        "outputId": "49153b22-3e8b-47e5-f82a-1abb76f7a4ba",
        "colab": {
          "base_uri": "https://localhost:8080/",
          "height": 206
        }
      },
      "source": [
        "df2.head()"
      ],
      "execution_count": 26,
      "outputs": [
        {
          "output_type": "execute_result",
          "data": {
            "text/html": [
              "<div>\n",
              "<style scoped>\n",
              "    .dataframe tbody tr th:only-of-type {\n",
              "        vertical-align: middle;\n",
              "    }\n",
              "\n",
              "    .dataframe tbody tr th {\n",
              "        vertical-align: top;\n",
              "    }\n",
              "\n",
              "    .dataframe thead th {\n",
              "        text-align: right;\n",
              "    }\n",
              "</style>\n",
              "<table border=\"1\" class=\"dataframe\">\n",
              "  <thead>\n",
              "    <tr style=\"text-align: right;\">\n",
              "      <th></th>\n",
              "      <th>journey</th>\n",
              "      <th>subtype</th>\n",
              "      <th>tenure_days</th>\n",
              "      <th>canceled</th>\n",
              "    </tr>\n",
              "  </thead>\n",
              "  <tbody>\n",
              "    <tr>\n",
              "      <th>0</th>\n",
              "      <td>test</td>\n",
              "      <td>P1</td>\n",
              "      <td>434</td>\n",
              "      <td>1</td>\n",
              "    </tr>\n",
              "    <tr>\n",
              "      <th>1</th>\n",
              "      <td>test</td>\n",
              "      <td>P1</td>\n",
              "      <td>414</td>\n",
              "      <td>0</td>\n",
              "    </tr>\n",
              "    <tr>\n",
              "      <th>2</th>\n",
              "      <td>test</td>\n",
              "      <td>P1</td>\n",
              "      <td>391</td>\n",
              "      <td>0</td>\n",
              "    </tr>\n",
              "    <tr>\n",
              "      <th>3</th>\n",
              "      <td>test</td>\n",
              "      <td>P1</td>\n",
              "      <td>391</td>\n",
              "      <td>0</td>\n",
              "    </tr>\n",
              "    <tr>\n",
              "      <th>4</th>\n",
              "      <td>test</td>\n",
              "      <td>P1</td>\n",
              "      <td>391</td>\n",
              "      <td>0</td>\n",
              "    </tr>\n",
              "  </tbody>\n",
              "</table>\n",
              "</div>"
            ],
            "text/plain": [
              "  journey subtype  tenure_days  canceled\n",
              "0    test      P1          434         1\n",
              "1    test      P1          414         0\n",
              "2    test      P1          391         0\n",
              "3    test      P1          391         0\n",
              "4    test      P1          391         0"
            ]
          },
          "metadata": {
            "tags": []
          },
          "execution_count": 26
        }
      ]
    },
    {
      "cell_type": "code",
      "metadata": {
        "id": "vQx6uwniiWet",
        "colab_type": "code",
        "colab": {}
      },
      "source": [
        "# Need to clean up the data \n",
        "T = df2['tenure_days']\n",
        "E = df2['canceled']"
      ],
      "execution_count": 0,
      "outputs": []
    },
    {
      "cell_type": "code",
      "metadata": {
        "id": "UDwaRd_6_cJB",
        "colab_type": "code",
        "colab": {
          "base_uri": "https://localhost:8080/",
          "height": 225
        },
        "outputId": "e684f506-de28-4a67-ac64-6bd2ae41a45a"
      },
      "source": [
        "T"
      ],
      "execution_count": 28,
      "outputs": [
        {
          "output_type": "execute_result",
          "data": {
            "text/plain": [
              "0       434\n",
              "1       414\n",
              "2       391\n",
              "3       391\n",
              "4       391\n",
              "       ... \n",
              "3350      0\n",
              "3351      0\n",
              "3352      0\n",
              "3353     -1\n",
              "3354     -6\n",
              "Name: tenure_days, Length: 3355, dtype: int64"
            ]
          },
          "metadata": {
            "tags": []
          },
          "execution_count": 28
        }
      ]
    },
    {
      "cell_type": "code",
      "metadata": {
        "id": "wULK0UQA_f7z",
        "colab_type": "code",
        "colab": {
          "base_uri": "https://localhost:8080/",
          "height": 225
        },
        "outputId": "b481d282-bf76-45b6-a3ea-05a397e2e489"
      },
      "source": [
        "E"
      ],
      "execution_count": 29,
      "outputs": [
        {
          "output_type": "execute_result",
          "data": {
            "text/plain": [
              "0       1\n",
              "1       0\n",
              "2       0\n",
              "3       0\n",
              "4       0\n",
              "       ..\n",
              "3350    1\n",
              "3351    1\n",
              "3352    1\n",
              "3353    1\n",
              "3354    1\n",
              "Name: canceled, Length: 3355, dtype: int64"
            ]
          },
          "metadata": {
            "tags": []
          },
          "execution_count": 29
        }
      ]
    },
    {
      "cell_type": "code",
      "metadata": {
        "id": "3ExfKiXyigMA",
        "colab_type": "code",
        "outputId": "89ac493d-e2e8-4b38-bc96-cd50f88ce035",
        "colab": {
          "base_uri": "https://localhost:8080/",
          "height": 34
        }
      },
      "source": [
        "from lifelines import KaplanMeierFitter\n",
        "kmf = KaplanMeierFitter()\n",
        "kmf.fit(T, event_observed=E)"
      ],
      "execution_count": 30,
      "outputs": [
        {
          "output_type": "execute_result",
          "data": {
            "text/plain": [
              "<lifelines.KaplanMeierFitter: fitted with 3355 total observations, 1685 right-censored observations>"
            ]
          },
          "metadata": {
            "tags": []
          },
          "execution_count": 30
        }
      ]
    },
    {
      "cell_type": "code",
      "metadata": {
        "id": "H3HAyxxHijpB",
        "colab_type": "code",
        "outputId": "27d46a4e-d264-4a93-d1eb-332d4ff0d10f",
        "colab": {
          "base_uri": "https://localhost:8080/",
          "height": 351
        }
      },
      "source": [
        "kmf.survival_function_\n",
        "kmf.cumulative_density_\n",
        "kmf.median_\n",
        "kmf.plot_survival_function()"
      ],
      "execution_count": 31,
      "outputs": [
        {
          "output_type": "stream",
          "text": [
            "/usr/local/lib/python3.6/dist-packages/lifelines/fitters/kaplan_meier_fitter.py:287: FutureWarning: Please use `median_survival_time_` property instead. Future property `median_` will be removed.\n",
            "  FutureWarning,\n"
          ],
          "name": "stderr"
        },
        {
          "output_type": "execute_result",
          "data": {
            "text/plain": [
              "<matplotlib.axes._subplots.AxesSubplot at 0x7fbd58466e48>"
            ]
          },
          "metadata": {
            "tags": []
          },
          "execution_count": 31
        },
        {
          "output_type": "display_data",
          "data": {
            "image/png": "[encoded data removed]",
            "text/plain": [
              "<Figure size 432x288 with 1 Axes>"
            ]
          },
          "metadata": {
            "tags": []
          }
        }
      ]
    },
    {
      "cell_type": "code",
      "metadata": {
        "id": "ck_eyXLsj1jG",
        "colab_type": "code",
        "colab": {}
      },
      "source": [
        "groups = df2['journey']"
      ],
      "execution_count": 0,
      "outputs": []
    },
    {
      "cell_type": "code",
      "metadata": {
        "id": "F8oUiew-j6na",
        "colab_type": "code",
        "colab": {}
      },
      "source": [
        "ix = (groups == 'test')"
      ],
      "execution_count": 0,
      "outputs": []
    },
    {
      "cell_type": "code",
      "metadata": {
        "id": "15bu8m3HlAbx",
        "colab_type": "code",
        "outputId": "a5e674ef-ec66-45d4-ce91-bc5a5807b5a2",
        "colab": {
          "base_uri": "https://localhost:8080/",
          "height": 279
        }
      },
      "source": [
        "kmf.fit(T[~ix], E[~ix], label='control')\n",
        "ax = kmf.plot()\n",
        "\n",
        "kmf.fit(T[ix], E[ix], label='test')\n",
        "ax = kmf.plot(ax=ax)"
      ],
      "execution_count": 34,
      "outputs": [
        {
          "output_type": "display_data",
          "data": {
            "image/png": "[encoded data removed]",
            "text/plain": [
              "<Figure size 432x288 with 1 Axes>"
            ]
          },
          "metadata": {
            "tags": []
          }
        }
      ]
    },
    {
      "cell_type": "code",
      "metadata": {
        "id": "0cQuZlucpIUd",
        "colab_type": "code",
        "outputId": "27d2fd4e-c403-416a-ceba-9f8d0c603694",
        "colab": {
          "base_uri": "https://localhost:8080/",
          "height": 89
        }
      },
      "source": [
        "#Mean Survival Time for Control \n",
        "kmf.fit(T[~ix], E[~ix], label='control')\n",
        "kmf.median_"
      ],
      "execution_count": 35,
      "outputs": [
        {
          "output_type": "stream",
          "text": [
            "/usr/local/lib/python3.6/dist-packages/lifelines/fitters/kaplan_meier_fitter.py:287: FutureWarning: Please use `median_survival_time_` property instead. Future property `median_` will be removed.\n",
            "  FutureWarning,\n"
          ],
          "name": "stderr"
        },
        {
          "output_type": "execute_result",
          "data": {
            "text/plain": [
              "92.0"
            ]
          },
          "metadata": {
            "tags": []
          },
          "execution_count": 35
        }
      ]
    },
    {
      "cell_type": "code",
      "metadata": {
        "id": "SnXKhqPypcys",
        "colab_type": "code",
        "outputId": "5be7a881-503f-4860-961a-736c0022781e",
        "colab": {
          "base_uri": "https://localhost:8080/",
          "height": 89
        }
      },
      "source": [
        "#Mean Survival time for Onboarding \n",
        "kmf.fit(T[ix], E[ix], label='test')\n",
        "kmf.median_"
      ],
      "execution_count": 36,
      "outputs": [
        {
          "output_type": "stream",
          "text": [
            "/usr/local/lib/python3.6/dist-packages/lifelines/fitters/kaplan_meier_fitter.py:287: FutureWarning: Please use `median_survival_time_` property instead. Future property `median_` will be removed.\n",
            "  FutureWarning,\n"
          ],
          "name": "stderr"
        },
        {
          "output_type": "execute_result",
          "data": {
            "text/plain": [
              "92.0"
            ]
          },
          "metadata": {
            "tags": []
          },
          "execution_count": 36
        }
      ]
    },
    {
      "cell_type": "code",
      "metadata": {
        "id": "Moq3206QmPC6",
        "colab_type": "code",
        "colab": {}
      },
      "source": [
        "from lifelines.statistics import multivariate_logrank_test"
      ],
      "execution_count": 0,
      "outputs": []
    },
    {
      "cell_type": "code",
      "metadata": {
        "id": "a9yyKujDlIiX",
        "colab_type": "code",
        "colab": {}
      },
      "source": [
        "#Setting alpha at 0.95\n",
        "results = multivariate_logrank_test(df2['tenure_days'], df2['journey'], df2['canceled'],alpha=.95)"
      ],
      "execution_count": 0,
      "outputs": []
    },
    {
      "cell_type": "code",
      "metadata": {
        "id": "dsx8jfuvmcg9",
        "colab_type": "code",
        "outputId": "0862848f-2ff9-40e0-9b87-9fc5460ecdd1",
        "colab": {
          "base_uri": "https://localhost:8080/",
          "height": 173
        }
      },
      "source": [
        "results.print_summary()"
      ],
      "execution_count": 39,
      "outputs": [
        {
          "output_type": "stream",
          "text": [
            "<lifelines.StatisticalResult>\n",
            "               t_0 = -1\n",
            " null_distribution = chi squared\n",
            "degrees_of_freedom = 1\n",
            "             alpha = 0.95\n",
            "\n",
            "---\n",
            " test_statistic    p  -log2(p)\n",
            "           0.07 0.80      0.33\n"
          ],
          "name": "stdout"
        }
      ]
    },
    {
      "cell_type": "code",
      "metadata": {
        "id": "yin1XkmT0eke",
        "colab_type": "code",
        "colab": {}
      },
      "source": [
        ""
      ],
      "execution_count": 0,
      "outputs": []
    },
    {
      "cell_type": "markdown",
      "metadata": {
        "id": "OYVplOAE0YWY",
        "colab_type": "text"
      },
      "source": [
        "# Product Wise Comparison"
      ]
    },
    {
      "cell_type": "code",
      "metadata": {
        "id": "4YXRL59A0r9Z",
        "colab_type": "code",
        "outputId": "24bc6ddc-6b56-459b-d59e-05c1cab92c79",
        "colab": {
          "base_uri": "https://localhost:8080/",
          "height": 34
        }
      },
      "source": [
        "kmf.fit(T, event_observed=E,label='Test_and_Control')"
      ],
      "execution_count": 40,
      "outputs": [
        {
          "output_type": "execute_result",
          "data": {
            "text/plain": [
              "<lifelines.KaplanMeierFitter: fitted with 3355 total observations, 1685 right-censored observations>"
            ]
          },
          "metadata": {
            "tags": []
          },
          "execution_count": 40
        }
      ]
    },
    {
      "cell_type": "code",
      "metadata": {
        "id": "riidHNS504-R",
        "colab_type": "code",
        "outputId": "072ccc09-820a-45e2-eb16-9b86500e2d36",
        "colab": {
          "base_uri": "https://localhost:8080/",
          "height": 156
        }
      },
      "source": [
        "#Grouping By Subtype and Journey \n",
        "df2.groupby(['subtype','journey']).canceled.count()"
      ],
      "execution_count": 42,
      "outputs": [
        {
          "output_type": "execute_result",
          "data": {
            "text/plain": [
              "subtype  journey\n",
              "P1       control     235\n",
              "         test       2047\n",
              "P2       control      44\n",
              "         test        265\n",
              "P3       control      62\n",
              "         test        702\n",
              "Name: canceled, dtype: int64"
            ]
          },
          "metadata": {
            "tags": []
          },
          "execution_count": 42
        }
      ]
    },
    {
      "cell_type": "code",
      "metadata": {
        "id": "1OsZSsM-mfrs",
        "colab_type": "code",
        "outputId": "c7bf982d-a6cb-4de6-cba3-ace4b7ecc5f4",
        "colab": {
          "base_uri": "https://localhost:8080/",
          "height": 279
        }
      },
      "source": [
        "\n",
        "import matplotlib.pyplot as plt \n",
        "kmf.survival_function_.plot()\n",
        "product_types = df2['subtype'].unique()"
      ],
      "execution_count": 43,
      "outputs": [
        {
          "output_type": "display_data",
          "data": {
            "image/png": "[encoded data removed]",
            "text/plain": [
              "<Figure size 432x288 with 1 Axes>"
            ]
          },
          "metadata": {
            "tags": []
          }
        }
      ]
    },
    {
      "cell_type": "code",
      "metadata": {
        "id": "VukO85AXzxPH",
        "colab_type": "code",
        "outputId": "e652673a-f4df-4d12-a010-e7060ae265df",
        "colab": {
          "base_uri": "https://localhost:8080/",
          "height": 34
        }
      },
      "source": [
        "product_types"
      ],
      "execution_count": 44,
      "outputs": [
        {
          "output_type": "execute_result",
          "data": {
            "text/plain": [
              "array(['P1', 'P2', 'P3'], dtype=object)"
            ]
          },
          "metadata": {
            "tags": []
          },
          "execution_count": 44
        }
      ]
    },
    {
      "cell_type": "code",
      "metadata": {
        "id": "SZ3F1-ehz7B8",
        "colab_type": "code",
        "colab": {
          "base_uri": "https://localhost:8080/",
          "height": 181
        },
        "outputId": "52bf386a-1f8e-44c5-bfca-e665e92cb8f3"
      },
      "source": [
        "for i, product_type in enumerate(product_types):\n",
        "    ax = plt.subplot(2, 3, i + 1)\n",
        "\n",
        "    ix = df2['subtype'] == product_type\n",
        "    kmf.fit(T[ix], E[ix], label=product_type)\n",
        "    kmf.plot(ax=ax, legend=False)\n",
        "\n",
        "    plt.title(product_type)\n",
        "    plt.xlim(0, 50)\n",
        "\n",
        "    if i==0:\n",
        "        plt.ylabel('Frac. in power after $n$ days')\n",
        "\n",
        "plt.tight_layout()"
      ],
      "execution_count": 45,
      "outputs": [
        {
          "output_type": "display_data",
          "data": {
            "image/png": "[encoded data removed]",
            "text/plain": [
              "<Figure size 432x288 with 3 Axes>"
            ]
          },
          "metadata": {
            "tags": []
          }
        }
      ]
    },
    {
      "cell_type": "markdown",
      "metadata": {
        "id": "mQD5ojmg4Te_",
        "colab_type": "text"
      },
      "source": [
        "# Comparing Test and Control for P1"
      ]
    },
    {
      "cell_type": "code",
      "metadata": {
        "id": "tczORKd44de8",
        "colab_type": "code",
        "colab": {}
      },
      "source": [
        "dfr=df2[df2['subtype']=='P1']"
      ],
      "execution_count": 0,
      "outputs": []
    },
    {
      "cell_type": "code",
      "metadata": {
        "id": "ye31tRA95LJO",
        "colab_type": "code",
        "outputId": "8762b3ba-0d09-4e8f-d417-5e2d6be80d60",
        "colab": {
          "base_uri": "https://localhost:8080/",
          "height": 312
        }
      },
      "source": [
        "# Need to clean up the data \n",
        "T = dfr['tenure_days']\n",
        "E = dfr['canceled']\n",
        "\n",
        "from lifelines import KaplanMeierFitter\n",
        "kmf = KaplanMeierFitter()\n",
        "#kmf.fit(T, event_observed=E)\n",
        "#kmf.plot_survival_function()\n",
        "\n",
        "groups = dfr['journey']\n",
        "ix = (groups == 'test')\n",
        "\n",
        "kmf.fit(T[~ix], E[~ix], label='control P1')\n",
        "ax = kmf.plot()\n",
        "\n",
        "kmf.fit(T[ix], E[ix], label='test P1')\n",
        "ax = kmf.plot(ax=ax)\n",
        "plt.title(\"Survival- Control vs test for P1\")\n"
      ],
      "execution_count": 47,
      "outputs": [
        {
          "output_type": "execute_result",
          "data": {
            "text/plain": [
              "Text(0.5, 1.0, 'Survival- Control vs test for P1')"
            ]
          },
          "metadata": {
            "tags": []
          },
          "execution_count": 47
        },
        {
          "output_type": "display_data",
          "data": {
            "image/png": "[encoded data removed]",
            "text/plain": [
              "<Figure size 432x288 with 1 Axes>"
            ]
          },
          "metadata": {
            "tags": []
          }
        }
      ]
    },
    {
      "cell_type": "code",
      "metadata": {
        "id": "udHntgSOCuEB",
        "colab_type": "code",
        "outputId": "0848a79a-dc5a-4a44-f44d-dcb418e5cd66",
        "colab": {
          "base_uri": "https://localhost:8080/",
          "height": 156
        }
      },
      "source": [
        "#Log Rank test to compare Onboarding and Test Group \n",
        "from lifelines.statistics import logrank_test\n",
        "results = logrank_test(T[~ix],T[ix],E[~ix],E[ix])\n",
        "results.print_summary()\n",
        "\n",
        "#print(results.p_value) \n",
        "#print(results.test_statistic)"
      ],
      "execution_count": 48,
      "outputs": [
        {
          "output_type": "stream",
          "text": [
            "<lifelines.StatisticalResult>\n",
            "               t_0 = -1\n",
            " null_distribution = chi squared\n",
            "degrees_of_freedom = 1\n",
            "\n",
            "---\n",
            " test_statistic    p  -log2(p)\n",
            "           0.46 0.50      1.00\n"
          ],
          "name": "stdout"
        }
      ]
    },
    {
      "cell_type": "code",
      "metadata": {
        "id": "qdHmJqffDgxA",
        "colab_type": "code",
        "outputId": "35e43e1e-d3b4-4c18-d379-c2f5745f23b5",
        "colab": {
          "base_uri": "https://localhost:8080/",
          "height": 173
        }
      },
      "source": [
        "# Multivariate Log rank Test \n",
        "#Same Result as above \n",
        "results = multivariate_logrank_test(dfr['tenure_days'], dfr['journey'], dfr['canceled'],alpha=.95)\n",
        "results.print_summary()"
      ],
      "execution_count": 49,
      "outputs": [
        {
          "output_type": "stream",
          "text": [
            "<lifelines.StatisticalResult>\n",
            "               t_0 = -1\n",
            " null_distribution = chi squared\n",
            "degrees_of_freedom = 1\n",
            "             alpha = 0.95\n",
            "\n",
            "---\n",
            " test_statistic    p  -log2(p)\n",
            "           0.46 0.50      1.00\n"
          ],
          "name": "stdout"
        }
      ]
    },
    {
      "cell_type": "code",
      "metadata": {
        "id": "bE4NnxtS9HsV",
        "colab_type": "code",
        "outputId": "898b399b-4f5d-4924-ea46-8842d6c6d30a",
        "colab": {
          "base_uri": "https://localhost:8080/",
          "height": 312
        }
      },
      "source": [
        "#Survival Comparison in the first 60 days \n",
        "import numpy as np\n",
        "t = np.linspace(0,60,61)\n",
        "kmf.fit(T[~ix], E[~ix], timeline=t,label='control P1')\n",
        "ax = kmf.plot()\n",
        "kmf.fit(T[ix], E[ix],timeline=t,label='onboarding P1')\n",
        "ax = kmf.plot(ax=ax)\n",
        "plt.title(\"Survival- Control vs test for P1 in first 60 days\")\n",
        "\n",
        "\n"
      ],
      "execution_count": 51,
      "outputs": [
        {
          "output_type": "execute_result",
          "data": {
            "text/plain": [
              "Text(0.5, 1.0, 'Survival- Control vs test for P1 in first 60 days')"
            ]
          },
          "metadata": {
            "tags": []
          },
          "execution_count": 51
        },
        {
          "output_type": "display_data",
          "data": {
            "image/png": "[encoded data removed]",
            "text/plain": [
              "<Figure size 432x288 with 1 Axes>"
            ]
          },
          "metadata": {
            "tags": []
          }
        }
      ]
    },
    {
      "cell_type": "code",
      "metadata": {
        "id": "PYCuqR2x9H5Q",
        "colab_type": "code",
        "outputId": "3a8c7242-cbb8-4121-fedf-dc288c414879",
        "colab": {
          "base_uri": "https://localhost:8080/",
          "height": 156
        }
      },
      "source": [
        "#Using Log Rank to Compare the difference between the two groups at a certain point\n",
        "from lifelines.statistics import survival_difference_at_fixed_point_in_time_test\n",
        "results = survival_difference_at_fixed_point_in_time_test(32,T[~ix],T[ix],E[~ix],E[ix])\n",
        "results.print_summary()"
      ],
      "execution_count": 52,
      "outputs": [
        {
          "output_type": "stream",
          "text": [
            "<lifelines.StatisticalResult>\n",
            " null_distribution = chi squared\n",
            "degrees_of_freedom = 1\n",
            "     point_in_time = 32\n",
            "\n",
            "---\n",
            " test_statistic    p  -log2(p)\n",
            "           0.20 0.65      0.61\n"
          ],
          "name": "stdout"
        }
      ]
    },
    {
      "cell_type": "code",
      "metadata": {
        "id": "rb6UEO9V-nao",
        "colab_type": "code",
        "colab": {}
      },
      "source": [
        ""
      ],
      "execution_count": 0,
      "outputs": []
    },
    {
      "cell_type": "markdown",
      "metadata": {
        "id": "2aJ29p0oFBt1",
        "colab_type": "text"
      },
      "source": [
        "# Restricted Mean Survival Times "
      ]
    },
    {
      "cell_type": "code",
      "metadata": {
        "id": "8SIZMDJ99H8c",
        "colab_type": "code",
        "outputId": "d4bfb9f1-14ea-4802-8e22-33a75608435c",
        "colab": {
          "base_uri": "https://localhost:8080/",
          "height": 297
        }
      },
      "source": [
        "#Comparing test and Onboarding overall\n",
        "import numpy as np\n",
        "from lifelines.utils import restricted_mean_survival_time\n",
        "#from lifelines.datasets import load_waltons\n",
        "\n",
        "ix = df2['journey'] == 'test'\n",
        "T, E = df2['tenure_days'], df2['canceled']\n",
        "\n",
        "kmf_exp = KaplanMeierFitter().fit(T[ix], E[ix], label='test')\n",
        "kmf_con = KaplanMeierFitter().fit(T[~ix], E[~ix], label='control')\n",
        "\n",
        "limit = 65\n",
        "\n",
        "rmst_exp = restricted_mean_survival_time(kmf_exp, t=limit)\n",
        "rmst_con = restricted_mean_survival_time(kmf_con, t=limit)\n",
        "\n",
        "ax = plt.subplot(311)\n",
        "kmf_exp.plot(ax=ax, c=\"#0C7BDC\", ci_show=False)\n",
        "sf_exp_at_limit = kmf_exp.predict(np.append(kmf_exp.timeline, limit)).sort_index().loc[:limit]\n",
        "ax.fill_between(sf_exp_at_limit.index, sf_exp_at_limit.values, step='post', color=\"#0C7BDC\", alpha=0.20)\n",
        "ax.axvline(limit, ls='--', c='k')\n",
        "ax.text(10, 0.3, \"%.3f\" % rmst_exp)\n",
        "ax.set_xlim(0, 65)\n",
        "\n",
        "\n",
        "ax = plt.subplot(312)\n",
        "kmf_con.plot(ax=ax, c=\"#FFC20A\", ci_show=False)\n",
        "sf_con_at_limit = kmf_con.predict(np.append(kmf_con.timeline, limit)).sort_index().loc[:limit]\n",
        "ax.fill_between(sf_con_at_limit.index, sf_con_at_limit.values, step='post', color=\"#FFC20A\", alpha=0.20)\n",
        "ax.axvline(limit, ls='--', c='k')\n",
        "ax.text(10, 0.4, \"%.3f\" % rmst_con)\n",
        "ax.set_xlim(0, 65)\n",
        "\n",
        "\n",
        "ax = plt.subplot(313)\n",
        "kmf_con.plot(ax=ax, c=\"#FFC20A\", ci_show=False)\n",
        "kmf_exp.plot(ax=ax, c=\"#0C7BDC\", ci_show=False)\n",
        "timeline = np.unique(T.tolist() + [limit])\n",
        "ax.axvline(limit, ls='--', c='k')\n",
        "ax.fill_between(timeline[timeline<=limit], kmf_con.predict(timeline).loc[:limit], kmf_exp.predict(timeline).loc[:limit], step=\"post\", color='k', alpha=0.10)\n",
        "ax.text(34, 0.4, \"%.3f\" % (rmst_con - rmst_exp))\n",
        "ax.set_xlim(0, 65)\n",
        "\n"
      ],
      "execution_count": 53,
      "outputs": [
        {
          "output_type": "execute_result",
          "data": {
            "text/plain": [
              "(0, 65)"
            ]
          },
          "metadata": {
            "tags": []
          },
          "execution_count": 53
        },
        {
          "output_type": "display_data",
          "data": {
            "image/png": "[encoded data removed]",
            "text/plain": [
              "<Figure size 432x288 with 3 Axes>"
            ]
          },
          "metadata": {
            "tags": []
          }
        }
      ]
    },
    {
      "cell_type": "code",
      "metadata": {
        "id": "7Gom0RBCHcls",
        "colab_type": "code",
        "outputId": "dd3471fc-939e-449c-83cc-ea3befc5bd36",
        "colab": {
          "base_uri": "https://localhost:8080/",
          "height": 296
        }
      },
      "source": [
        "# Restricted mean survival times\n",
        "# Just for P1 \n",
        "\n",
        "from lifelines.utils import restricted_mean_survival_time\n",
        "#from lifelines.datasets import load_waltons\n",
        "\n",
        "ix = dfr['journey'] == 'test'\n",
        "T, E = dfr['tenure_days'], dfr['canceled']\n",
        "\n",
        "kmf_exp = KaplanMeierFitter().fit(T[ix], E[ix], label='test')\n",
        "kmf_con = KaplanMeierFitter().fit(T[~ix], E[~ix], label='control')\n",
        "\n",
        "#Setting the limit here \n",
        "limit = 65\n",
        "\n",
        "rmst_exp = restricted_mean_survival_time(kmf_exp, t=limit)\n",
        "rmst_con = restricted_mean_survival_time(kmf_con, t=limit)\n",
        "\n",
        "ax = plt.subplot(311)\n",
        "kmf_exp.plot(ax=ax, c=\"#0C7BDC\", ci_show=False)\n",
        "sf_exp_at_limit = kmf_exp.predict(np.append(kmf_exp.timeline, limit)).sort_index().loc[:limit]\n",
        "ax.fill_between(sf_exp_at_limit.index, sf_exp_at_limit.values, step='post', color=\"#0C7BDC\", alpha=0.20)\n",
        "ax.axvline(limit, ls='--', c='k')\n",
        "ax.text(10, 0.3, \"%.3f\" % rmst_exp)\n",
        "ax.set_xlim(0, 65)\n",
        "\n",
        "\n",
        "ax = plt.subplot(312)\n",
        "kmf_con.plot(ax=ax, c=\"#FFC20A\", ci_show=False)\n",
        "sf_con_at_limit = kmf_con.predict(np.append(kmf_con.timeline, limit)).sort_index().loc[:limit]\n",
        "ax.fill_between(sf_con_at_limit.index, sf_con_at_limit.values, step='post', color=\"#FFC20A\", alpha=0.20)\n",
        "ax.axvline(limit, ls='--', c='k')\n",
        "ax.text(10, 0.4, \"%.3f\" % rmst_con)\n",
        "ax.set_xlim(0, 65)\n",
        "\n",
        "\n",
        "ax = plt.subplot(313)\n",
        "kmf_con.plot(ax=ax, c=\"#FFC20A\", ci_show=False)\n",
        "kmf_exp.plot(ax=ax, c=\"#0C7BDC\", ci_show=False)\n",
        "timeline = np.unique(T.tolist() + [limit])\n",
        "ax.axvline(limit, ls='--', c='k')\n",
        "ax.fill_between(timeline[timeline<=limit], kmf_con.predict(timeline).loc[:limit], kmf_exp.predict(timeline).loc[:limit], step=\"post\", color='k', alpha=0.10)\n",
        "ax.text(34, 0.4, \"%.3f\" % (rmst_con - rmst_exp))\n",
        "ax.set_xlim(0, 65)\n",
        "\n"
      ],
      "execution_count": 54,
      "outputs": [
        {
          "output_type": "execute_result",
          "data": {
            "text/plain": [
              "(0, 65)"
            ]
          },
          "metadata": {
            "tags": []
          },
          "execution_count": 54
        },
        {
          "output_type": "display_data",
          "data": {
            "image/png": "[encoded data removed]",
            "text/plain": [
              "<Figure size 432x288 with 3 Axes>"
            ]
          },
          "metadata": {
            "tags": []
          }
        }
      ]
    },
    {
      "cell_type": "code",
      "metadata": {
        "id": "fiyNDK9Ut-4m",
        "colab_type": "code",
        "colab": {}
      },
      "source": [
        ""
      ],
      "execution_count": 0,
      "outputs": []
    }
  ]
}